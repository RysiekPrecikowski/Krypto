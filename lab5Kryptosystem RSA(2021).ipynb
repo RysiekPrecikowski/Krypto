{
 "cells": [
  {
   "cell_type": "markdown",
   "metadata": {},
   "source": [
    "# Kryptografia asymetryczna - kryptosystem RSA \n",
    "Kryptografia asymetryczna charakteryzuje się wykorzystaniem **pary kluczy publiczny-prywatny** (stąd nazwa kryptografia z kluczem publicznym). Klucz publiczny może być swobodnie dystrybuowany otwartym kanałem i służy do szyfrowania (a także do weryfikowania podpisu). Klucz prywatny musi być utrzymywany w tajności i służy do deszyfrowania (lub tworzenia podpisu). \n",
    "\n",
    "Chronologicznie pierwszym kryptosystemem asymetrycznym był protokół wymiany kluczu Diffiego-Hellmana-Merkla. Służy on bezpiecznej wymiany danych, które mogą być wykorzystane jako tajne klucze kryptograficzne lub mogą być użyte do wyprodukowania kluczy. \n",
    "\n",
    "Najbardziej znanym kryptosystem z kluczem publicznym jest RSA (nazwa pochodzi od wynalazów: Rivest, Shamir i Adlemann). RSA umożliwia szyfrowanie danych jak również realizację podpisu cyfrowego. Bezpieczeństwo RSA opiera się na obliczeniowej trudności rozwiązania **problemu faktoryzacji liczb całkowitych złożonych**. "
   ]
  },
  {
   "cell_type": "markdown",
   "source": [
    "zrobic rozszerzony algorytm euklidesa w wersji rekurencyjnej"
   ],
   "metadata": {
    "collapsed": false
   }
  },
  {
   "cell_type": "code",
   "execution_count": 1,
   "metadata": {},
   "outputs": [],
   "source": [
    "## Funkcje pomocnicze \n",
    "def gcd(a, b):\n",
    "    # GCD - Greatest Common Divisor, Największy wspólny dzielnik \n",
    "    while a != 0:\n",
    "        a, b = b % a, a\n",
    "    return b\n",
    "\n",
    "def findModInverse(a, m):\n",
    "    # Zwraca liczbę x odwrotną do a ciele skończonym modulo m \n",
    "    # czyli (a*x) % m =1 \n",
    "\n",
    "    if gcd(a, m) != 1:\n",
    "        return None #a i m muszą być względnie pierwsze aby istniał element odwrotny \n",
    "\n",
    "    # Rozszerzony algorytm Euklidesa \n",
    "    u1, u2, u3 = 1, 0, a\n",
    "    v1, v2, v3 = 0, 1, m\n",
    "    while v3 != 0:\n",
    "        q = u3 // v3 # // operator dzielenie całkowitoliczbowego \n",
    "        v1, v2, v3, u1, u2, u3 = (u1 - q * v1), (u2 - q * v2), (u3 - q * v3), v1, v2, v3\n",
    "    return u1 % m"
   ]
  },
  {
   "cell_type": "markdown",
   "metadata": {},
   "source": [
    "## Generowanie kluczy w kryptosystemie RSA\n",
    "\n",
    "### 1. Losujemy dwie duże liczby pierwsze \n",
    "Potrzebujemy dwóch liczb pierwszych o naprawdę dużych rozmiarach - 2048 bitów obecnie uważa się niezbyt bezpieczny wybór. 4096 bitów jest z kolei wielkością nieco kłopotliwą w użytkowaniu. \n",
    "#### Skąd wziąć liczbę pierwszą? \n",
    "**Wylosować i sprawdzić czy jest pierwsza!**\n",
    "\n",
    "\n",
    "Test probabilistyczny, np. Rabina-Millera."
   ]
  },
  {
   "cell_type": "markdown",
   "source": [
    "test aks mozna zrobic"
   ],
   "metadata": {
    "collapsed": false
   }
  },
  {
   "cell_type": "code",
   "execution_count": 4,
   "metadata": {},
   "outputs": [
    {
     "name": "stdout",
     "output_type": "stream",
     "text": [
      "65519\n",
      "65521\n",
      "65537\n",
      "65539\n",
      "65543\n",
      "65551\n",
      "65557\n",
      "65563\n",
      "65579\n",
      "65581\n",
      "65587\n",
      "65599\n"
     ]
    }
   ],
   "source": [
    "import random\n",
    "def isPrime3(n, k=10):\n",
    "    if n < 2: return False\n",
    "    if n < 4: return True\n",
    "    if n % 2 == 0: return False    # speedup\n",
    "\n",
    "    s = 0\n",
    "    d = n-1\n",
    "    while d % 2 == 0:\n",
    "        s += 1\n",
    "        d //= 2\n",
    "\n",
    "    for i in range(k):\n",
    "        a = random.randrange(2, n-2)    # 2 <= a <= n-2\n",
    "        # x = (a**d) % n\n",
    "        x = pow(a, d, n)\n",
    "        if (x != 1) and (x!= (n-1)):  #x^d przystaje 1 mod n (warunek silne pseudopierwszości) testujemy nowego swiadka\n",
    "            for j in range(1,s):\n",
    "                if (x== n-1): break \n",
    "                x = (x**2) % n\n",
    "            if x != n-1: return False\n",
    "    return True    \n",
    "\n",
    "for i in range(65500,65600):            \n",
    "    if(isPrime3(i,10)): print(i)"
   ]
  },
  {
   "cell_type": "markdown",
   "metadata": {},
   "source": [
    "## Zadanie\n",
    "1. Napisz funkcję generującą liczbę pierwszą o określonej długości w bitach. "
   ]
  },
  {
   "cell_type": "code",
   "execution_count": 12,
   "metadata": {},
   "outputs": [
    {
     "data": {
      "text/plain": "30193501776225272622461490244550108320644841587936971897204016572189868048469293945298593143053430214674928072845610393913629679502970038990683551794144913307073885459328957599767354494644915506723892945308856238529041437143701491906725139139273618492636956911128555920390837527157952466944428573627214533749990909264153400965193482282064240548108941615002635738792420617452437682964218211751328042659835850657769374386579370568470549750371038709396183130319610808591337460135526416948491932549810737199655045455331391450382983019002641609727028567508155846045247898180626508526373744608336527126456893489195593967111"
     },
     "execution_count": 12,
     "metadata": {},
     "output_type": "execute_result"
    }
   ],
   "source": [
    "#napisz funkcję generującą liczbę pierwszą \n",
    "def generatePrime(keysize):\n",
    "    #napisz swój kod tutaj\n",
    "    num = random.randrange(2**(keysize-1), 2**keysize)\n",
    "\n",
    "    while not isPrime3(num):\n",
    "        num = random.randrange(2**(keysize-1), 2**keysize)\n",
    "\n",
    "    return num\n",
    "\n",
    "generatePrime(2048)"
   ]
  },
  {
   "cell_type": "markdown",
   "metadata": {},
   "source": [
    "## Zastanów się \n",
    "1. Znajdź zestawienie liczb silnie pseudopierwszych i sprawdź działanie (pojedynczego!) testy R-M dla takich liczb\n",
    "2. Ile testów R-M należy przeprowadzić aby osiągnąć bezpieczny poziom pewności testu"
   ]
  },
  {
   "cell_type": "markdown",
   "metadata": {},
   "source": [
    "### 2. Obliczamy składniki kluczy \n",
    "1. Wybieramy dwie duże liczby pierwsze $p$ i $q$\n",
    "2. Pierwszym składnikiem klucza jest moduł $n$ $n=p \\times q$ \n",
    "3. Poszukujemy wykładnika publicznego $e$, który jest względnie pierwszy z $(p-1)\\cdot (q-1)$ (czasami używane jest w miejscu pojęcie tocjentu lub funkcji Eulera: $\\phi(n) = \\phi(p)\\cdot \\phi(q) = (p − 1)·(q − 1)$)\n",
    "4. Poszukujemy wykładnika prywatnego $d$, które jest odwrotnością $e\\ (mod\\ (p-1)\\cdot (q-1))$: $de \\equiv 1  (mod\\ (p-1)\\cdot (q-1))$\n",
    "5. Kluczem publiczny jest para $(n, e)$, kluczem prywatnym jest para $(n, d)$."
   ]
  },
  {
   "cell_type": "markdown",
   "metadata": {},
   "source": [
    "## Zadanie \n",
    "\n",
    "1. Napisz funkcję generującą klucze RSA o ustalonym rozmiarze"
   ]
  },
  {
   "cell_type": "code",
   "execution_count": 47,
   "metadata": {},
   "outputs": [
    {
     "name": "stdout",
     "output_type": "stream",
     "text": [
      "Generujemy klucze publiczny i prywatny\n",
      "(136910366345544030943138397179367108492400131190345692867838528754668862894224654505150155252279375577470043936792900192531796642551183956823592737402547078045221908173157536511084789958877859591220751049226326165839033909185411251109962982294312134400567621938083486894523754566916405332490005700294765799827, 104383719163095207868761096685601363108363808782602242621801026386737916896376752556933347780757663163141108053946432494968146628366313842098692667144111219242264288738182602418497957311278100590520137094717139401259065426297011812270600390100280750629070916294413254338359355611368640702937786673593651304533) \n",
      " (136910366345544030943138397179367108492400131190345692867838528754668862894224654505150155252279375577470043936792900192531796642551183956823592737402547078045221908173157536511084789958877859591220751049226326165839033909185411251109962982294312134400567621938083486894523754566916405332490005700294765799827, 36122060066979042161931845386286824677172290770048043803313805748404203045159905095343023985462572653651565182361030624248381373263780210769764132521873824225698243419705506780555045731568052294537494288527546750102307668721179229044422967002154692041542973761925420437881867914991617420618391159978074488317)\n"
     ]
    }
   ],
   "source": [
    "import random, sys, os\n",
    "\n",
    "def generateKey(keySize):\n",
    "    #napisz swój kod tutaj\n",
    "\n",
    "    p = generatePrime(keySize)\n",
    "    q = generatePrime(keySize)\n",
    "\n",
    "    n = p * q\n",
    "\n",
    "    e_max = (p-1) * (q-1)\n",
    "\n",
    "    e = random.randrange(3, e_max)\n",
    "    while gcd(e, e_max) != 1 :\n",
    "        e = random.randrange(3, e_max)\n",
    "\n",
    "    d = findModInverse(e, e_max)\n",
    "\n",
    "    publicKey = n, e\n",
    "    privateKey = n, d\n",
    "\n",
    "    return publicKey, privateKey\n",
    "\n",
    "  \n",
    "print('Generujemy klucze publiczny i prywatny')\n",
    "public_key, private_key = generateKey(512)\n",
    "print(public_key, \"\\n\", private_key)"
   ]
  },
  {
   "cell_type": "markdown",
   "metadata": {},
   "source": [
    "## Zadanie \n",
    "\n",
    "Napisz funkcje implementujące szyfrowanie i deszyfrowanie RSA (tzw. podręcznikowe)\n",
    "\n",
    "### Szyfrowanie RSA \n",
    "Operacja szyfrowania: $c=m^e (mod\\ n)$"
   ]
  },
  {
   "cell_type": "code",
   "execution_count": 48,
   "metadata": {},
   "outputs": [
    {
     "name": "stdout",
     "output_type": "stream",
     "text": [
      "[6718557481577128092235637847829717860252912883074623909676032646095877306082094893500656233026522725260109628857945677803373713819576616279597438107315914680354701785779884708954589760128146720848027776447340591977559698246395577800021629846318043567469675250854404964641085327624023736916361222319914192448, 11751842390038117266673526446647264980174724460196073296975423187917872801785637318930260337078058409134143715717762621570183571073827471388010229186911019015469290812888022778554312233320204071088898718952727814440288385797917752311127349311637529517207853800763439969747373453586469811329042353584661966910, 80891742555387119693060758174366594168802521313803491805375541357414522635200514391252688827199738968975394414121395928601468352466339060308879796727701642160543653428641456609384005061512426365265847870333570714993740651143593520682022776357286778330440778412917628177294675028987977391029564176470498626279, 111569706726470791997662339203773961375019285613263696103674698115533814428601475389223129292704716634433198754572851500804059792489003340684625642216367621825720881743530206966838210907649208574729422028712863776435284997739728171231975500241314704591810585830113177814760646307746152379687620656486754957127, 17189558606955470528548255329575756912692712171077258038878584461606785932681518103726417673439699703122774728231248371034773541126482316940333333531129146014806249019627234396998907255010842881040572860998672613196449066870968891630654441456928272523151390027491152509859662172589807135173033759260337798066, 14991780576872169144064033320826015526116334126651926477458569614497384306738476058583626654735784818659569552515917366789918325110771050059647820764840021338602972119808657704119456643579148815888561767067146479065092270770997299188143959202484525196240261784375726610109223603863375047950856898785093899955]\n"
     ]
    }
   ],
   "source": [
    "def encrypt(message, modulus, exp):\n",
    "    message_encrypted = [None] * len(message)\n",
    "\n",
    "    for i, c in enumerate(message):\n",
    "        message_encrypted[i] = pow(ord(c), exp, modulus)\n",
    "\n",
    "    # kod szyfrowania     \n",
    "  \n",
    "    return message_encrypted\n",
    "\n",
    "\n",
    "message = \"hi rsa\"\n",
    "\n",
    "encrypted = encrypt(message, public_key[0], public_key[1])\n",
    "\n",
    "print(encrypted)"
   ]
  },
  {
   "cell_type": "markdown",
   "metadata": {},
   "source": [
    "### Deszyfrowanie RSA \n",
    "Operacja szyfrowanie $m = c^d (mod\\ n)$"
   ]
  },
  {
   "cell_type": "code",
   "execution_count": 49,
   "metadata": {},
   "outputs": [
    {
     "name": "stdout",
     "output_type": "stream",
     "text": [
      "hi rsa\n"
     ]
    }
   ],
   "source": [
    "def decrypt(message_encrypted, modulus, exp):\n",
    "    message_ascii = [None] * len(message_encrypted)\n",
    "\n",
    "    for i, a in enumerate(message_encrypted):\n",
    "        message_ascii[i] = chr(pow(a, exp, modulus))\n",
    "\n",
    "    return ('').join(message_ascii)\n",
    "\n",
    "decrypted = decrypt(encrypted, private_key[0], private_key[1])\n",
    "\n",
    "print(decrypted)"
   ]
  },
  {
   "cell_type": "markdown",
   "metadata": {},
   "source": [
    "## Zastanów się\n",
    "1. Sprawdź działanie powyższej implementacji dla różnych wielkości klucza (podawane podczas generowania kluczy). \n",
    "2. Poszukaj informacji o trybie podręcznikowym RSA (*textbook RSA encryption*). Na czym polega? Jakie są jego wady i zalety? \n",
    "\n",
    "\n",
    "## Zadanie \n",
    "Zademonstruj deformowalność podręcznikowego szyfrowania RSA"
   ]
  },
  {
   "cell_type": "markdown",
   "source": [
    "oaep na aktywnosc"
   ],
   "metadata": {
    "collapsed": false
   }
  },
  {
   "cell_type": "markdown",
   "source": [],
   "metadata": {
    "collapsed": false
   }
  },
  {
   "cell_type": "code",
   "execution_count": null,
   "metadata": {},
   "outputs": [],
   "source": [
    "\n",
    "\n",
    "\n",
    "    "
   ]
  }
 ],
 "metadata": {
  "kernelspec": {
   "display_name": "Python 3",
   "language": "python",
   "name": "python3"
  },
  "language_info": {
   "codemirror_mode": {
    "name": "ipython",
    "version": 3
   },
   "file_extension": ".py",
   "mimetype": "text/x-python",
   "name": "python",
   "nbconvert_exporter": "python",
   "pygments_lexer": "ipython3",
   "version": "3.8.10"
  }
 },
 "nbformat": 4,
 "nbformat_minor": 2
}